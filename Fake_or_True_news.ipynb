{
 "cells": [
  {
   "cell_type": "markdown",
   "id": "89d78ca5",
   "metadata": {},
   "source": [
    "Data is provided from: https://www.kaggle.com/datasets/clmentbisaillon/fake-and-real-news-dataset"
   ]
  },
  {
   "cell_type": "markdown",
   "id": "5a252b1f",
   "metadata": {},
   "source": [
    "# Phase 1"
   ]
  },
  {
   "cell_type": "markdown",
   "id": "c61bfc51",
   "metadata": {},
   "source": [
    "Data loading."
   ]
  },
  {
   "cell_type": "code",
   "execution_count": 77,
   "id": "35c7948f",
   "metadata": {},
   "outputs": [],
   "source": [
    "#Importig needed modules.\n",
    "\n",
    "from pandas import read_csv , concat , DataFrame\n",
    "from matplotlib.pyplot import pie  , title , show , legend , xlabel , ylabel , plot\n",
    "from random import sample\n",
    "from pickle import dump\n",
    "from tensorflow.keras.preprocessing.text import Tokenizer\n",
    "from tensorflow.keras.preprocessing.sequence import pad_sequences\n",
    "from tensorflow.keras.layers import Embedding,GlobalAveragePooling1D,Dense\n",
    "from tensorflow.keras.models import Sequential\n",
    "\n",
    "#Instancing from Tokenizer object.\n",
    "\n",
    "tokenizer = Tokenizer(oov_token='<00U00>')"
   ]
  },
  {
   "cell_type": "code",
   "execution_count": 78,
   "id": "6e1c299a",
   "metadata": {},
   "outputs": [
    {
     "data": {
      "text/html": [
       "<div>\n",
       "<style scoped>\n",
       "    .dataframe tbody tr th:only-of-type {\n",
       "        vertical-align: middle;\n",
       "    }\n",
       "\n",
       "    .dataframe tbody tr th {\n",
       "        vertical-align: top;\n",
       "    }\n",
       "\n",
       "    .dataframe thead th {\n",
       "        text-align: right;\n",
       "    }\n",
       "</style>\n",
       "<table border=\"1\" class=\"dataframe\">\n",
       "  <thead>\n",
       "    <tr style=\"text-align: right;\">\n",
       "      <th></th>\n",
       "      <th>title</th>\n",
       "      <th>text</th>\n",
       "      <th>subject</th>\n",
       "      <th>date</th>\n",
       "    </tr>\n",
       "  </thead>\n",
       "  <tbody>\n",
       "    <tr>\n",
       "      <th>6868</th>\n",
       "      <td>These DISGUSTING Trump T-shirts Are EXACTLY W...</td>\n",
       "      <td>Trump s supporters have proven time and time a...</td>\n",
       "      <td>News</td>\n",
       "      <td>April 16, 2016</td>\n",
       "    </tr>\n",
       "    <tr>\n",
       "      <th>15417</th>\n",
       "      <td>(Video) Judge Jeanine: You Can’t Trust Hillary...</td>\n",
       "      <td>Once again, a great opening statement from Jud...</td>\n",
       "      <td>politics</td>\n",
       "      <td>Jul 26, 2015</td>\n",
       "    </tr>\n",
       "    <tr>\n",
       "      <th>17435</th>\n",
       "      <td>FIGHTING BACK: [VIDEO] Ben Carson’s Brilliance...</td>\n",
       "      <td>It s so refreshing to see these GOP candidates...</td>\n",
       "      <td>Government News</td>\n",
       "      <td>Apr 11, 2015</td>\n",
       "    </tr>\n",
       "    <tr>\n",
       "      <th>19820</th>\n",
       "      <td>LEAKED EMAIL: Hillary’s Team Caught Bashing “B...</td>\n",
       "      <td>As a Catholic, I m not sure what offends me mo...</td>\n",
       "      <td>left-news</td>\n",
       "      <td>Oct 11, 2016</td>\n",
       "    </tr>\n",
       "    <tr>\n",
       "      <th>15507</th>\n",
       "      <td>https://100percentfedup.com/video-hillary-aske...</td>\n",
       "      <td>https://100percentfedup.com/video-hillary-aske...</td>\n",
       "      <td>politics</td>\n",
       "      <td>https://100percentfedup.com/video-hillary-aske...</td>\n",
       "    </tr>\n",
       "    <tr>\n",
       "      <th>2500</th>\n",
       "      <td>WATCH: CNN Host Fareed Zakaria ROASTS Trump F...</td>\n",
       "      <td>Donald Trump embarrassed himself and the natio...</td>\n",
       "      <td>News</td>\n",
       "      <td>February 16, 2017</td>\n",
       "    </tr>\n",
       "    <tr>\n",
       "      <th>22947</th>\n",
       "      <td>BEYOND MISSION CREEP: U.S. Planning to Send 1,...</td>\n",
       "      <td>Patrick Henningsen 21st Century WireJust as 2...</td>\n",
       "      <td>Middle-east</td>\n",
       "      <td>March 17, 2017</td>\n",
       "    </tr>\n",
       "    <tr>\n",
       "      <th>1343</th>\n",
       "      <td>Donald Trump Was Tweeting Again Last Night; H...</td>\n",
       "      <td>Donald Trump was away for a bit over a week, w...</td>\n",
       "      <td>News</td>\n",
       "      <td>May 28, 2017</td>\n",
       "    </tr>\n",
       "    <tr>\n",
       "      <th>15196</th>\n",
       "      <td>BREAKING: Rubio Top Official Punches Snarky Ra...</td>\n",
       "      <td>The fun s already begun at the Republican Lead...</td>\n",
       "      <td>politics</td>\n",
       "      <td>Sep 18, 2015</td>\n",
       "    </tr>\n",
       "    <tr>\n",
       "      <th>10134</th>\n",
       "      <td>ICELAND PROUDLY CLAIMS TO HAVE “ERADICATED” Do...</td>\n",
       "      <td>Mainstream news channels rarely draw attention...</td>\n",
       "      <td>politics</td>\n",
       "      <td>Aug 16, 2017</td>\n",
       "    </tr>\n",
       "  </tbody>\n",
       "</table>\n",
       "</div>"
      ],
      "text/plain": [
       "                                                   title  \\\n",
       "6868    These DISGUSTING Trump T-shirts Are EXACTLY W...   \n",
       "15417  (Video) Judge Jeanine: You Can’t Trust Hillary...   \n",
       "17435  FIGHTING BACK: [VIDEO] Ben Carson’s Brilliance...   \n",
       "19820  LEAKED EMAIL: Hillary’s Team Caught Bashing “B...   \n",
       "15507  https://100percentfedup.com/video-hillary-aske...   \n",
       "2500    WATCH: CNN Host Fareed Zakaria ROASTS Trump F...   \n",
       "22947  BEYOND MISSION CREEP: U.S. Planning to Send 1,...   \n",
       "1343    Donald Trump Was Tweeting Again Last Night; H...   \n",
       "15196  BREAKING: Rubio Top Official Punches Snarky Ra...   \n",
       "10134  ICELAND PROUDLY CLAIMS TO HAVE “ERADICATED” Do...   \n",
       "\n",
       "                                                    text          subject  \\\n",
       "6868   Trump s supporters have proven time and time a...             News   \n",
       "15417  Once again, a great opening statement from Jud...         politics   \n",
       "17435  It s so refreshing to see these GOP candidates...  Government News   \n",
       "19820  As a Catholic, I m not sure what offends me mo...        left-news   \n",
       "15507  https://100percentfedup.com/video-hillary-aske...         politics   \n",
       "2500   Donald Trump embarrassed himself and the natio...             News   \n",
       "22947   Patrick Henningsen 21st Century WireJust as 2...      Middle-east   \n",
       "1343   Donald Trump was away for a bit over a week, w...             News   \n",
       "15196  The fun s already begun at the Republican Lead...         politics   \n",
       "10134  Mainstream news channels rarely draw attention...         politics   \n",
       "\n",
       "                                                    date  \n",
       "6868                                      April 16, 2016  \n",
       "15417                                       Jul 26, 2015  \n",
       "17435                                       Apr 11, 2015  \n",
       "19820                                       Oct 11, 2016  \n",
       "15507  https://100percentfedup.com/video-hillary-aske...  \n",
       "2500                                   February 16, 2017  \n",
       "22947                                     March 17, 2017  \n",
       "1343                                        May 28, 2017  \n",
       "15196                                       Sep 18, 2015  \n",
       "10134                                       Aug 16, 2017  "
      ]
     },
     "execution_count": 78,
     "metadata": {},
     "output_type": "execute_result"
    }
   ],
   "source": [
    "#Loading csv files and converting them to Pandas dataframes.\n",
    "\n",
    "path_fake = \"D:\\\\datasets\\\\Fake_and_True_news\\\\Fake.csv\"\n",
    "path_true = \"D:\\\\datasets\\\\Fake_and_True_news\\\\True.csv\"\n",
    "file_fake = read_csv(path_fake)\n",
    "file_true = read_csv(path_true)\n",
    "dff = file_fake.copy()\n",
    "dft = file_true.copy()\n",
    "dff.sample(10)"
   ]
  },
  {
   "cell_type": "code",
   "execution_count": 79,
   "id": "bdd1e4c3",
   "metadata": {},
   "outputs": [],
   "source": [
    "#Inserting label column.\n",
    "\n",
    "dff = concat([dff,DataFrame([0 for i in range(len(dff))],columns=['Label'])],axis=1)"
   ]
  },
  {
   "cell_type": "code",
   "execution_count": 80,
   "id": "e1156d0f",
   "metadata": {},
   "outputs": [
    {
     "name": "stdout",
     "output_type": "stream",
     "text": [
      "<class 'pandas.core.frame.DataFrame'>\n",
      "RangeIndex: 23481 entries, 0 to 23480\n",
      "Data columns (total 5 columns):\n",
      " #   Column   Non-Null Count  Dtype \n",
      "---  ------   --------------  ----- \n",
      " 0   title    23481 non-null  object\n",
      " 1   text     23481 non-null  object\n",
      " 2   subject  23481 non-null  object\n",
      " 3   date     23481 non-null  object\n",
      " 4   Label    23481 non-null  int64 \n",
      "dtypes: int64(1), object(4)\n",
      "memory usage: 917.4+ KB\n"
     ]
    }
   ],
   "source": [
    "#Fake-news data frame information.\n",
    "\n",
    "dff.info()"
   ]
  },
  {
   "cell_type": "code",
   "execution_count": 81,
   "id": "48fd3df9",
   "metadata": {},
   "outputs": [
    {
     "data": {
      "text/plain": [
       "title      0\n",
       "text       0\n",
       "subject    0\n",
       "date       0\n",
       "Label      0\n",
       "dtype: int64"
      ]
     },
     "execution_count": 81,
     "metadata": {},
     "output_type": "execute_result"
    }
   ],
   "source": [
    "dff.isnull().sum()"
   ]
  },
  {
   "cell_type": "code",
   "execution_count": 82,
   "id": "ce4f8024",
   "metadata": {},
   "outputs": [
    {
     "data": {
      "text/html": [
       "<div>\n",
       "<style scoped>\n",
       "    .dataframe tbody tr th:only-of-type {\n",
       "        vertical-align: middle;\n",
       "    }\n",
       "\n",
       "    .dataframe tbody tr th {\n",
       "        vertical-align: top;\n",
       "    }\n",
       "\n",
       "    .dataframe thead th {\n",
       "        text-align: right;\n",
       "    }\n",
       "</style>\n",
       "<table border=\"1\" class=\"dataframe\">\n",
       "  <thead>\n",
       "    <tr style=\"text-align: right;\">\n",
       "      <th></th>\n",
       "      <th>title</th>\n",
       "      <th>text</th>\n",
       "      <th>subject</th>\n",
       "      <th>date</th>\n",
       "    </tr>\n",
       "  </thead>\n",
       "  <tbody>\n",
       "    <tr>\n",
       "      <th>13</th>\n",
       "      <td>Trump on Twitter (Dec 27) - Trump, Iraq, Syria</td>\n",
       "      <td>The following statements were posted to the ve...</td>\n",
       "      <td>politicsNews</td>\n",
       "      <td>December 28, 2017</td>\n",
       "    </tr>\n",
       "    <tr>\n",
       "      <th>6994</th>\n",
       "      <td>Factbox: Contenders, picks for key jobs in Tru...</td>\n",
       "      <td>(Reuters) - U.S. President-elect Donald Trump ...</td>\n",
       "      <td>politicsNews</td>\n",
       "      <td>November 30, 2016</td>\n",
       "    </tr>\n",
       "    <tr>\n",
       "      <th>1853</th>\n",
       "      <td>Trump, his party: an American odd couple</td>\n",
       "      <td>WASHINGTON (Reuters) - When President Donald T...</td>\n",
       "      <td>politicsNews</td>\n",
       "      <td>September 6, 2017</td>\n",
       "    </tr>\n",
       "    <tr>\n",
       "      <th>12210</th>\n",
       "      <td>Brazil's Temer to leave hospital, return to Br...</td>\n",
       "      <td>BRASILIA (Reuters) - Brazilian President Miche...</td>\n",
       "      <td>worldnews</td>\n",
       "      <td>December 15, 2017</td>\n",
       "    </tr>\n",
       "    <tr>\n",
       "      <th>14926</th>\n",
       "      <td>Zimbabwe's top general ready \"to step in\" to e...</td>\n",
       "      <td>HARARE (Reuters) - Zimbabwe s top general warn...</td>\n",
       "      <td>worldnews</td>\n",
       "      <td>November 13, 2017</td>\n",
       "    </tr>\n",
       "    <tr>\n",
       "      <th>4467</th>\n",
       "      <td>Key House Republican says progress seen on hea...</td>\n",
       "      <td>WASHINGTON (Reuters) - U.S. Representative Mar...</td>\n",
       "      <td>politicsNews</td>\n",
       "      <td>April 5, 2017</td>\n",
       "    </tr>\n",
       "    <tr>\n",
       "      <th>10025</th>\n",
       "      <td>Democrats force postponement of committee's vo...</td>\n",
       "      <td>WASHINGTON (Reuters) - The U.S. Senate Banking...</td>\n",
       "      <td>politicsNews</td>\n",
       "      <td>April 7, 2016</td>\n",
       "    </tr>\n",
       "    <tr>\n",
       "      <th>10624</th>\n",
       "      <td>Michigan governor's aides urged switch away fr...</td>\n",
       "      <td>DETROIT (Reuters) - Quality problems prompted ...</td>\n",
       "      <td>politicsNews</td>\n",
       "      <td>February 26, 2016</td>\n",
       "    </tr>\n",
       "    <tr>\n",
       "      <th>2323</th>\n",
       "      <td>Russia: Pence Balkans comments expose Washingt...</td>\n",
       "      <td>MOSCOW (Reuters) - Accusations made by U.S. Vi...</td>\n",
       "      <td>politicsNews</td>\n",
       "      <td>August 3, 2017</td>\n",
       "    </tr>\n",
       "    <tr>\n",
       "      <th>7442</th>\n",
       "      <td>For China, Trump win creates uncertainty, oppo...</td>\n",
       "      <td>BEIJING (Reuters) - Donald Trump’s upset elect...</td>\n",
       "      <td>politicsNews</td>\n",
       "      <td>November 9, 2016</td>\n",
       "    </tr>\n",
       "  </tbody>\n",
       "</table>\n",
       "</div>"
      ],
      "text/plain": [
       "                                                   title  \\\n",
       "13        Trump on Twitter (Dec 27) - Trump, Iraq, Syria   \n",
       "6994   Factbox: Contenders, picks for key jobs in Tru...   \n",
       "1853            Trump, his party: an American odd couple   \n",
       "12210  Brazil's Temer to leave hospital, return to Br...   \n",
       "14926  Zimbabwe's top general ready \"to step in\" to e...   \n",
       "4467   Key House Republican says progress seen on hea...   \n",
       "10025  Democrats force postponement of committee's vo...   \n",
       "10624  Michigan governor's aides urged switch away fr...   \n",
       "2323   Russia: Pence Balkans comments expose Washingt...   \n",
       "7442   For China, Trump win creates uncertainty, oppo...   \n",
       "\n",
       "                                                    text       subject  \\\n",
       "13     The following statements were posted to the ve...  politicsNews   \n",
       "6994   (Reuters) - U.S. President-elect Donald Trump ...  politicsNews   \n",
       "1853   WASHINGTON (Reuters) - When President Donald T...  politicsNews   \n",
       "12210  BRASILIA (Reuters) - Brazilian President Miche...     worldnews   \n",
       "14926  HARARE (Reuters) - Zimbabwe s top general warn...     worldnews   \n",
       "4467   WASHINGTON (Reuters) - U.S. Representative Mar...  politicsNews   \n",
       "10025  WASHINGTON (Reuters) - The U.S. Senate Banking...  politicsNews   \n",
       "10624  DETROIT (Reuters) - Quality problems prompted ...  politicsNews   \n",
       "2323   MOSCOW (Reuters) - Accusations made by U.S. Vi...  politicsNews   \n",
       "7442   BEIJING (Reuters) - Donald Trump’s upset elect...  politicsNews   \n",
       "\n",
       "                     date  \n",
       "13     December 28, 2017   \n",
       "6994   November 30, 2016   \n",
       "1853   September 6, 2017   \n",
       "12210  December 15, 2017   \n",
       "14926  November 13, 2017   \n",
       "4467       April 5, 2017   \n",
       "10025      April 7, 2016   \n",
       "10624  February 26, 2016   \n",
       "2323      August 3, 2017   \n",
       "7442    November 9, 2016   "
      ]
     },
     "execution_count": 82,
     "metadata": {},
     "output_type": "execute_result"
    }
   ],
   "source": [
    "#True-news data frame information.\n",
    "\n",
    "dft.sample(10)"
   ]
  },
  {
   "cell_type": "code",
   "execution_count": 83,
   "id": "34659c26",
   "metadata": {},
   "outputs": [],
   "source": [
    "#Inserting label column.\n",
    "\n",
    "dft = concat([dft,DataFrame([1 for i in range(len(dft))],columns=['Label'])],axis=1)"
   ]
  },
  {
   "cell_type": "code",
   "execution_count": 84,
   "id": "2e3df2ca",
   "metadata": {},
   "outputs": [
    {
     "name": "stdout",
     "output_type": "stream",
     "text": [
      "<class 'pandas.core.frame.DataFrame'>\n",
      "RangeIndex: 21417 entries, 0 to 21416\n",
      "Data columns (total 5 columns):\n",
      " #   Column   Non-Null Count  Dtype \n",
      "---  ------   --------------  ----- \n",
      " 0   title    21417 non-null  object\n",
      " 1   text     21417 non-null  object\n",
      " 2   subject  21417 non-null  object\n",
      " 3   date     21417 non-null  object\n",
      " 4   Label    21417 non-null  int64 \n",
      "dtypes: int64(1), object(4)\n",
      "memory usage: 836.7+ KB\n"
     ]
    }
   ],
   "source": [
    "dft.info()"
   ]
  },
  {
   "cell_type": "code",
   "execution_count": 85,
   "id": "44de9dec",
   "metadata": {},
   "outputs": [
    {
     "data": {
      "text/plain": [
       "title      0\n",
       "text       0\n",
       "subject    0\n",
       "date       0\n",
       "Label      0\n",
       "dtype: int64"
      ]
     },
     "execution_count": 85,
     "metadata": {},
     "output_type": "execute_result"
    }
   ],
   "source": [
    "dft.isnull().sum()"
   ]
  },
  {
   "cell_type": "code",
   "execution_count": 86,
   "id": "5c341243",
   "metadata": {},
   "outputs": [],
   "source": [
    "#Making an unique data frame and shuffling them.\n",
    "\n",
    "df = concat([dff,dft],axis=0).to_numpy().tolist()\n",
    "df = sample(df,len(df))\n",
    "df = DataFrame(df,columns=dff.columns)"
   ]
  },
  {
   "cell_type": "code",
   "execution_count": 87,
   "id": "a17ef8cc",
   "metadata": {},
   "outputs": [
    {
     "name": "stdout",
     "output_type": "stream",
     "text": [
      "<class 'pandas.core.frame.DataFrame'>\n",
      "RangeIndex: 44898 entries, 0 to 44897\n",
      "Data columns (total 5 columns):\n",
      " #   Column   Non-Null Count  Dtype \n",
      "---  ------   --------------  ----- \n",
      " 0   title    44898 non-null  object\n",
      " 1   text     44898 non-null  object\n",
      " 2   subject  44898 non-null  object\n",
      " 3   date     44898 non-null  object\n",
      " 4   Label    44898 non-null  int64 \n",
      "dtypes: int64(1), object(4)\n",
      "memory usage: 1.7+ MB\n"
     ]
    }
   ],
   "source": [
    "df.info()"
   ]
  },
  {
   "cell_type": "code",
   "execution_count": 88,
   "id": "e289c3b7",
   "metadata": {},
   "outputs": [
    {
     "data": {
      "image/png": "[encoded data removed]",
      "text/plain": [
       "<Figure size 640x480 with 1 Axes>"
      ]
     },
     "metadata": {},
     "output_type": "display_data"
    }
   ],
   "source": [
    "pie([df.Label.value_counts().values[0],\n",
    "     df.Label.value_counts().values[1]],\n",
    "    autopct='%1.1f%%',\n",
    "    colors=['red','green'])\n",
    "legend(['Fake news','True news'])\n",
    "title('Distribution of lebels in dataset')\n",
    "show()"
   ]
  },
  {
   "cell_type": "markdown",
   "id": "25cf2b12",
   "metadata": {},
   "source": [
    "# Phase 2"
   ]
  },
  {
   "cell_type": "markdown",
   "id": "97fe2e21",
   "metadata": {},
   "source": [
    "Data preprocessing."
   ]
  },
  {
   "cell_type": "code",
   "execution_count": 89,
   "id": "248ae7ae",
   "metadata": {},
   "outputs": [],
   "source": [
    "#Creating a function in order to remove stop words from each text.\n",
    "\n",
    "def Filter(text)->str:\n",
    "    '''function docstring'''\n",
    "    stopwords = [\"a\", \"about\", \"above\", \"after\", \"again\", \"against\", \"all\", \"am\", \"an\", \"and\", \"any\", \"are\", \"as\", \"at\", \"be\", \"because\", \"been\", \"before\", \"being\", \"below\", \"between\", \"both\", \"but\", \"by\", \"could\", \"did\", \"do\", \"does\", \"doing\", \"down\", \"during\", \"each\", \"few\", \"for\", \"from\", \"further\", \"had\", \"has\", \"have\", \"having\", \"he\", \"he'd\", \"he'll\", \"he's\", \"her\", \"here\", \"here's\", \"hers\", \"herself\", \"him\", \"himself\", \"his\", \"how\", \"how's\", \"i\", \"i'd\", \"i'll\", \"i'm\", \"i've\", \"if\", \"in\", \"into\", \"is\", \"it\", \"it's\", \"its\", \"itself\", \"let's\", \"me\", \"more\", \"most\", \"my\", \"myself\", \"nor\", \"of\", \"on\", \"once\", \"only\", \"or\", \"other\", \"ought\", \"our\", \"ours\", \"ourselves\", \"out\", \"over\", \"own\", \"same\", \"she\", \"she'd\", \"she'll\", \"she's\", \"should\", \"so\", \"some\", \"such\", \"than\", \"that\", \"that's\", \"the\", \"their\", \"theirs\", \"them\", \"themselves\", \"then\", \"there\", \"there's\", \"these\", \"they\", \"they'd\", \"they'll\", \"they're\", \"they've\", \"this\", \"those\", \"through\", \"to\", \"too\", \"under\", \"until\", \"up\", \"very\", \"was\", \"we\", \"we'd\", \"we'll\", \"we're\", \"we've\", \"were\", \"what\", \"what's\", \"when\", \"when's\", \"where\", \"where's\", \"which\", \"while\", \"who\", \"who's\", \"whom\", \"why\", \"why's\", \"with\", \"would\", \"you\", \"you'd\", \"you'll\", \"you're\", \"you've\", \"your\", \"yours\", \"yourself\", \"yourselves\" ]\n",
    "    result = [word for word in text.lower().split() if word not in stopwords]\n",
    "    return ' '.join(result)"
   ]
  },
  {
   "cell_type": "code",
   "execution_count": 90,
   "id": "02d7a0f2",
   "metadata": {},
   "outputs": [],
   "source": [
    "#Removing stop words from texts.\n",
    "\n",
    "features = [Filter(note) for note in df.text]\n",
    "\n",
    "#Splitting labels from features.\n",
    "\n",
    "lbl = df.Label.to_numpy()\n",
    "\n",
    "#Tokenizing progress.\n",
    "\n",
    "tokenizer.fit_on_texts(features)\n",
    "\n",
    "#Making tikenized texts into sequences.\n",
    "\n",
    "seqs = tokenizer.texts_to_sequences(features)\n",
    "\n",
    "#Padding sequences.\n",
    "\n",
    "matrix = pad_sequences(seqs,padding='post',truncating='post',maxlen=16)"
   ]
  },
  {
   "cell_type": "code",
   "execution_count": 91,
   "id": "7ef20635",
   "metadata": {},
   "outputs": [],
   "source": [
    "#Saving the tokenizer object in the main directory. \n",
    "\n",
    "with open('D:\\\\datasets\\\\Fake_and_True_news\\\\Tokenizer.pkl','wb') as file:\n",
    "    dump(tokenizer,file)"
   ]
  },
  {
   "cell_type": "code",
   "execution_count": 92,
   "id": "e7686671",
   "metadata": {},
   "outputs": [
    {
     "name": "stdout",
     "output_type": "stream",
     "text": [
      "Enter train size:80\n"
     ]
    }
   ],
   "source": [
    "#Splitting data to train and test sets.\n",
    "#80% percent of data are considered as train set.\n",
    "\n",
    "size = int(input('Enter train size:'))\n",
    "idx = (size*len(matrix))//100\n",
    "idx_val = ((((100-size)//2)+size)*len(matrix))//100\n",
    "\n",
    "#Making train set.\n",
    "\n",
    "xtr , ytr = matrix[:idx] , lbl[:idx]\n",
    "\n",
    "#Making validation set.\n",
    "\n",
    "xval , yval = matrix[idx:idx_val] , lbl[idx:idx_val]\n",
    "\n",
    "#Making test set.\n",
    "\n",
    "xts , yts = matrix[idx_val:] , lbl[idx_val:]"
   ]
  },
  {
   "cell_type": "code",
   "execution_count": 93,
   "id": "fb0f181b",
   "metadata": {},
   "outputs": [
    {
     "name": "stdout",
     "output_type": "stream",
     "text": [
      "Train size: 35918 - 80%\n",
      "Validation size: 4490 - 10%\n",
      "Test size: 4490 - 10%\n"
     ]
    }
   ],
   "source": [
    "print(f'Train size: {len(xtr)} - {size}%\\nValidation size: {len(xval)} - {(100-size)//2}%\\nTest size: {len(xts)} - {(100-size)//2}%')"
   ]
  },
  {
   "cell_type": "code",
   "execution_count": 94,
   "id": "d7cf492a",
   "metadata": {},
   "outputs": [
    {
     "data": {
      "image/png": "[encoded data removed]",
      "text/plain": [
       "<Figure size 640x480 with 1 Axes>"
      ]
     },
     "metadata": {},
     "output_type": "display_data"
    }
   ],
   "source": [
    "pie([ytr.tolist().count(0),\n",
    "     ytr.tolist().count(1)],\n",
    "    autopct='%1.1f%%',\n",
    "    colors=['purple','gray'])\n",
    "legend(['Fake news','True news'])\n",
    "title('Distribution of lebels in train set.')\n",
    "show()"
   ]
  },
  {
   "cell_type": "code",
   "execution_count": 95,
   "id": "752dd6dd",
   "metadata": {},
   "outputs": [
    {
     "data": {
      "image/png": "[encoded data removed]",
      "text/plain": [
       "<Figure size 640x480 with 1 Axes>"
      ]
     },
     "metadata": {},
     "output_type": "display_data"
    }
   ],
   "source": [
    "pie([yval.tolist().count(0),\n",
    "     yval.tolist().count(1)],\n",
    "    autopct='%1.1f%%',\n",
    "    colors=['yellow','blue'])\n",
    "legend(['Fake news','True news'])\n",
    "title('Distribution of lebels in validation set.')\n",
    "show()"
   ]
  },
  {
   "cell_type": "code",
   "execution_count": 96,
   "id": "7792de75",
   "metadata": {},
   "outputs": [
    {
     "data": {
      "image/png": "[encoded data removed]",
      "text/plain": [
       "<Figure size 640x480 with 1 Axes>"
      ]
     },
     "metadata": {},
     "output_type": "display_data"
    }
   ],
   "source": [
    "pie([yts.tolist().count(0),\n",
    "     yts.tolist().count(1)],\n",
    "    autopct='%1.1f%%',\n",
    "    colors=['pink','green'])\n",
    "legend(['Fake news','True news'])\n",
    "title('Distribution of lebels in test set.')\n",
    "show()"
   ]
  },
  {
   "cell_type": "markdown",
   "id": "244bc308",
   "metadata": {},
   "source": [
    "# Phase 3"
   ]
  },
  {
   "cell_type": "markdown",
   "id": "d6a2de01",
   "metadata": {},
   "source": [
    "Modeling and training"
   ]
  },
  {
   "cell_type": "code",
   "execution_count": 97,
   "id": "4786f6e2",
   "metadata": {},
   "outputs": [],
   "source": [
    "#Defining a sequential model.\n",
    "\n",
    "model = Sequential([Embedding(len(tokenizer.word_index),2,input_length=16),\n",
    "                    GlobalAveragePooling1D(),\n",
    "                    Dense(1,activation='sigmoid')])\n",
    "\n",
    "#Compiling the model.\n",
    "\n",
    "model.compile(optimizer='rmsprop',\n",
    "              loss='binary_crossentropy',\n",
    "              metrics=['accuracy'])"
   ]
  },
  {
   "cell_type": "code",
   "execution_count": 98,
   "id": "b302e1c3",
   "metadata": {},
   "outputs": [
    {
     "name": "stdout",
     "output_type": "stream",
     "text": [
      "Epoch 1/15\n",
      "1123/1123 [==============================] - 5s 3ms/step - loss: 0.5509 - accuracy: 0.9497 - val_loss: 0.3911 - val_accuracy: 0.9722\n",
      "Epoch 2/15\n",
      "1123/1123 [==============================] - 3s 3ms/step - loss: 0.2687 - accuracy: 0.9752 - val_loss: 0.1727 - val_accuracy: 0.9804\n",
      "Epoch 3/15\n",
      "1123/1123 [==============================] - 3s 3ms/step - loss: 0.1205 - accuracy: 0.9832 - val_loss: 0.0843 - val_accuracy: 0.9878\n",
      "Epoch 4/15\n",
      "1123/1123 [==============================] - 3s 2ms/step - loss: 0.0610 - accuracy: 0.9891 - val_loss: 0.0485 - val_accuracy: 0.9913\n",
      "Epoch 5/15\n",
      "1123/1123 [==============================] - 3s 3ms/step - loss: 0.0346 - accuracy: 0.9926 - val_loss: 0.0321 - val_accuracy: 0.9931\n",
      "Epoch 6/15\n",
      "1123/1123 [==============================] - 3s 3ms/step - loss: 0.0216 - accuracy: 0.9950 - val_loss: 0.0241 - val_accuracy: 0.9947\n",
      "Epoch 7/15\n",
      "1123/1123 [==============================] - 3s 3ms/step - loss: 0.0147 - accuracy: 0.9962 - val_loss: 0.0200 - val_accuracy: 0.9964\n",
      "Epoch 8/15\n",
      "1123/1123 [==============================] - 3s 3ms/step - loss: 0.0110 - accuracy: 0.9971 - val_loss: 0.0179 - val_accuracy: 0.9971\n",
      "Epoch 9/15\n",
      "1123/1123 [==============================] - 3s 2ms/step - loss: 0.0088 - accuracy: 0.9976 - val_loss: 0.0168 - val_accuracy: 0.9976\n",
      "Epoch 10/15\n",
      "1123/1123 [==============================] - 3s 3ms/step - loss: 0.0074 - accuracy: 0.9978 - val_loss: 0.0163 - val_accuracy: 0.9978\n",
      "Epoch 11/15\n",
      "1123/1123 [==============================] - 4s 3ms/step - loss: 0.0066 - accuracy: 0.9981 - val_loss: 0.0161 - val_accuracy: 0.9978\n",
      "Epoch 12/15\n",
      "1123/1123 [==============================] - 3s 3ms/step - loss: 0.0059 - accuracy: 0.9982 - val_loss: 0.0160 - val_accuracy: 0.9978\n",
      "Epoch 13/15\n",
      "1123/1123 [==============================] - 3s 3ms/step - loss: 0.0055 - accuracy: 0.9984 - val_loss: 0.0160 - val_accuracy: 0.9978\n",
      "Epoch 14/15\n",
      "1123/1123 [==============================] - 3s 2ms/step - loss: 0.0052 - accuracy: 0.9985 - val_loss: 0.0161 - val_accuracy: 0.9978\n",
      "Epoch 15/15\n",
      "1123/1123 [==============================] - 3s 3ms/step - loss: 0.0049 - accuracy: 0.9986 - val_loss: 0.0161 - val_accuracy: 0.9978\n"
     ]
    }
   ],
   "source": [
    "#Data train.\n",
    "\n",
    "history = model.fit(xtr,ytr,epochs=15,validation_data=(xval,yval))"
   ]
  },
  {
   "cell_type": "code",
   "execution_count": 99,
   "id": "cf08f34c",
   "metadata": {},
   "outputs": [
    {
     "data": {
      "image/png": "[encoded data removed]",
      "text/plain": [
       "<Figure size 640x480 with 1 Axes>"
      ]
     },
     "metadata": {},
     "output_type": "display_data"
    },
    {
     "data": {
      "image/png": "[encoded data removed]",
      "text/plain": [
       "<Figure size 640x480 with 1 Axes>"
      ]
     },
     "metadata": {},
     "output_type": "display_data"
    }
   ],
   "source": [
    "epoch = range(1,len(history.epoch)+1)\n",
    "results = history.history\n",
    "plot(epoch,results['accuracy'],'blue')\n",
    "plot(epoch,results['val_accuracy'],'green')\n",
    "xlabel('Epochs')\n",
    "ylabel('Accuracy')\n",
    "title('Fake_or_True_news')\n",
    "legend(['Train','Valid'])\n",
    "show()\n",
    "plot(epoch,results['loss'],'black')\n",
    "plot(epoch,results['val_loss'],'red')\n",
    "xlabel('Epochs')\n",
    "ylabel('Loss')\n",
    "title('Fake_or_True_news')\n",
    "legend(['Train','Valid'])\n",
    "show()"
   ]
  },
  {
   "cell_type": "code",
   "execution_count": 100,
   "id": "a729dfb6",
   "metadata": {},
   "outputs": [
    {
     "name": "stdout",
     "output_type": "stream",
     "text": [
      "141/141 [==============================] - 0s 2ms/step - loss: 0.0040 - accuracy: 0.9987\n",
      "\n",
      "Loss on test set: 0.0039833723567426205\n",
      "\n",
      "Acuuracy on test set: 99.87%\n"
     ]
    }
   ],
   "source": [
    "#Evaluating on test set.\n",
    "\n",
    "evl = model.evaluate(xts,yts)\n",
    "\n",
    "print(f'\\nLoss on test set: {evl[0]}\\n\\nAcuuracy on test set: {evl[1]*100:0.2f}%')"
   ]
  },
  {
   "cell_type": "code",
   "execution_count": 101,
   "id": "ecc097c8",
   "metadata": {},
   "outputs": [
    {
     "name": "stdout",
     "output_type": "stream",
     "text": [
      "INFO:tensorflow:Assets written to: D:\\datasets\\Fake_and_True_news\\model\\assets\n"
     ]
    },
    {
     "name": "stderr",
     "output_type": "stream",
     "text": [
      "INFO:tensorflow:Assets written to: D:\\datasets\\Fake_and_True_news\\model\\assets\n"
     ]
    }
   ],
   "source": [
    "#Saving the model in the main directory.\n",
    "\n",
    "model.save('D:\\\\datasets\\\\Fake_and_True_news\\\\model')"
   ]
  },
  {
   "cell_type": "markdown",
   "id": "7de73618",
   "metadata": {},
   "source": [
    "# End"
   ]
  }
 ],
 "metadata": {
  "kernelspec": {
   "display_name": "Python 3 (ipykernel)",
   "language": "python",
   "name": "python3"
  },
  "language_info": {
   "codemirror_mode": {
    "name": "ipython",
    "version": 3
   },
   "file_extension": ".py",
   "mimetype": "text/x-python",
   "name": "python",
   "nbconvert_exporter": "python",
   "pygments_lexer": "ipython3",
   "version": "3.11.5"
  }
 },
 "nbformat": 4,
 "nbformat_minor": 5
}
